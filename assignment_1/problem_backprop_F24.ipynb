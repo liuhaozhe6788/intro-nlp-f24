{
  "nbformat": 4,
  "nbformat_minor": 0,
  "metadata": {
    "colab": {
      "provenance": [],
      "include_colab_link": true
    },
    "kernelspec": {
      "name": "python3",
      "display_name": "Python 3"
    },
    "language_info": {
      "name": "python"
    }
  },
  "cells": [
    {
      "cell_type": "markdown",
      "metadata": {
        "id": "view-in-github",
        "colab_type": "text"
      },
      "source": [
        "<a href=\"https://colab.research.google.com/github/liuhaozhe6788/intro-nlp-f24/blob/master/assignment_1/problem_backprop_F24.ipynb\" target=\"_parent\"><img src=\"https://colab.research.google.com/assets/colab-badge.svg\" alt=\"Open In Colab\"/></a>"
      ]
    },
    {
      "cell_type": "markdown",
      "source": [
        "# Assignment 1 – Backprop"
      ],
      "metadata": {
        "id": "Kf49KbBpaJsu"
      }
    },
    {
      "cell_type": "code",
      "source": [
        "#@title Library Imports [do not change]\n",
        "\n",
        "import importlib\n",
        "!git clone https://www.github.com/rycolab/intro-nlp-f24.git\n",
        "utils = importlib.import_module(\"intro-nlp-f24.assignment_1.utils\")\n",
        "\n",
        "import re\n",
        "import random\n",
        "from collections import defaultdict\n",
        "import itertools\n",
        "from abc import ABC, abstractmethod\n",
        "import math"
      ],
      "metadata": {
        "id": "wAhpRJSCgCh4",
        "colab": {
          "base_uri": "https://localhost:8080/"
        },
        "outputId": "ccbd9825-faa8-4cf6-8445-86040b2586c0",
        "cellView": "form"
      },
      "execution_count": 1,
      "outputs": [
        {
          "output_type": "stream",
          "name": "stdout",
          "text": [
            "Cloning into 'intro-nlp-f24'...\n",
            "warning: redirecting to https://github.com/rycolab/intro-nlp-f24.git/\n",
            "remote: Enumerating objects: 5, done.\u001b[K\n",
            "remote: Counting objects: 100% (5/5), done.\u001b[K\n",
            "remote: Compressing objects: 100% (4/4), done.\u001b[K\n",
            "remote: Total 5 (delta 0), reused 5 (delta 0), pack-reused 0 (from 0)\u001b[K\n",
            "Receiving objects: 100% (5/5), done.\n"
          ]
        }
      ]
    },
    {
      "cell_type": "code",
      "source": [
        "#@title Select and Parse Math Problems [do not change]\n",
        "\n",
        "#@markdown select math problem\n",
        "\n",
        "math_problem_i = \"1\" #@param [0,1,2,3]\n",
        "math_problem = utils.MATH_PROBLEMS[int(math_problem_i)]\n",
        "print(math_problem)\n",
        "\n",
        "parser = utils.Parser()\n",
        "infix, in_vars = parser.parse(math_problem[\"problem\"], in_vars = math_problem[\"in_vars\"])\n",
        "print(infix, in_vars)"
      ],
      "metadata": {
        "colab": {
          "base_uri": "https://localhost:8080/"
        },
        "id": "awwwql_ii0y0",
        "outputId": "7034f3b0-b02f-4a9a-8989-2ecd1f9c8c61",
        "cellView": "form"
      },
      "execution_count": 8,
      "outputs": [
        {
          "output_type": "stream",
          "name": "stdout",
          "text": [
            "{'problem': 'exp(x) - (y * 2)', 'in_vars': {'x': 2.0, 'y': -2.0}, 'output': 11.39, 'derivative': {'x': 7.39, 'y': -2.0}}\n",
            "[['exp', 'x'], '-', ['y', '*', 2]] {'y': -2.0, 'x': 2.0}\n"
          ]
        }
      ]
    },
    {
      "cell_type": "code",
      "source": [
        "#@title ToDo1: Building\n",
        "\n",
        "class Builder():\n",
        "\n",
        "    def __init__(self, infix: list, in_vars: dict = {}):\n",
        "        \"\"\"\n",
        "        infix: list of infix notation parse, e.g. [['exp', 2], '-', 3]\n",
        "        in_vars: dict of input variables to ensure they are not used as intermediate or output variables\n",
        "        RETURN: computation graph in a data structure of your choosing\n",
        "        \"\"\"\n",
        "\n",
        "        ## some alphabetical vars to use as intermediate and output variables minus the input vars to avoid duplicates\n",
        "        avail_vars = list(map(chr, range(97, 123))) + list(map(chr, range(945, 969)))\n",
        "        if len(in_vars.keys()) > 0:\n",
        "            avail_vars = set(avail_vars) - set(in_vars)\n",
        "        self.avail_vars = sorted(list(set(avail_vars)), reverse=True)\n",
        "\n",
        "        self.infix = infix\n",
        "        self.var_id = 0  # index for available variables used\n",
        "        self.graph = self.build_graph(infix)\n",
        "\n",
        "    def build_graph(self, infix: list):\n",
        "        if len(infix) == 0: return {}\n",
        "        if len(infix) == 1: return {infix[0]: []}\n",
        "        if len(infix) == 2:\n",
        "          op, val = infix\n",
        "          g = self.build_graph(val if isinstance(val, list) else [val])\n",
        "          for k, v in g.items():\n",
        "            if len(v) == 0:\n",
        "              g[k].append([op, self.avail_vars[self.var_id]])\n",
        "              g[self.avail_vars[self.var_id]] = []\n",
        "              break\n",
        "          self.var_id +=1\n",
        "          return g\n",
        "        if len(infix) == 3:\n",
        "          lval, op, rval = infix\n",
        "          gl = self.build_graph(lval if isinstance(lval, list) else [lval])\n",
        "          gr = self.build_graph(rval if isinstance(rval, list) else [rval])\n",
        "          for k, v in gl.items():\n",
        "            if len(v) == 0:\n",
        "              gl[k].append([op, self.avail_vars[self.var_id]])\n",
        "              gl[self.avail_vars[self.var_id]] = []\n",
        "              break\n",
        "          for k, v in gr.items():\n",
        "            if len(v) == 0:\n",
        "              gr[k].append([op, self.avail_vars[self.var_id]])\n",
        "              gr[self.avail_vars[self.var_id]] = []\n",
        "              break\n",
        "          self.var_id +=1\n",
        "          g = {}\n",
        "          g.update(gl)\n",
        "          g.update(gr)\n",
        "          return g\n",
        "\n",
        "if __name__ == '__main__':\n",
        "\n",
        "    g = Builder(infix, in_vars)\n",
        "    print(g.graph)"
      ],
      "metadata": {
        "colab": {
          "base_uri": "https://localhost:8080/"
        },
        "id": "gEY0OEr4X2sO",
        "outputId": "565ff9c4-193d-471a-c282-a4aa4e9c7546"
      },
      "execution_count": 11,
      "outputs": [
        {
          "output_type": "stream",
          "name": "stdout",
          "text": [
            "{'x': [['exp', 'ψ']], 'ψ': [['-', 'φ']], 'φ': [], 'y': [['*', 'χ']], 'χ': [['-', 'φ']], 2: [['*', 'χ']]}\n"
          ]
        }
      ]
    },
    {
      "cell_type": "code",
      "source": [
        "#@title ToDo2: Operations\n",
        "\n",
        "class Operator(ABC):\n",
        "\n",
        "    @abstractmethod\n",
        "    def f(self, a, b = None) -> float:\n",
        "        raise NotImplementedError()\n",
        "        return f_res\n",
        "\n",
        "    @abstractmethod\n",
        "    def df(self, a, b = None) -> list:\n",
        "        raise NotImplementedError()\n",
        "        return [df_res]\n",
        "\n",
        "class Exp(Operator):\n",
        "\n",
        "    def f(self, a, b = None):\n",
        "        return math.exp(a)\n",
        "\n",
        "    def df(self, a, b = None):\n",
        "        return [math.exp(a)]\n",
        "\n",
        "class Log(Operator):\n",
        "    ## natural logarithm\n",
        "\n",
        "    def f(self, a, b = None):\n",
        "        pass ## ToDO: implement\n",
        "\n",
        "    def df(self, a, b = None):\n",
        "        pass ## ToDO: implement\n",
        "\n",
        "class Mult(Operator):\n",
        "\n",
        "    def f(self, a, b):\n",
        "        return a * b\n",
        "\n",
        "    def df(self, a, b):\n",
        "        return [b, a]\n",
        "\n",
        "class Div(Operator):\n",
        "\n",
        "    def f(self, a, b):\n",
        "        pass ## ToDO: implement\n",
        "\n",
        "    def df(self, a, b):\n",
        "        pass ## ToDO: implement\n",
        "\n",
        "class Add(Operator):\n",
        "\n",
        "    def f(self, a, b):\n",
        "        pass ## ToDO: implement\n",
        "\n",
        "    def df(self, a, b = None):\n",
        "        pass ## ToDO: implement\n",
        "\n",
        "class Sub(Operator):\n",
        "\n",
        "    def f(self, a, b = None):\n",
        "        pass ## ToDO: implement\n",
        "\n",
        "    def df(self, a, b = None):\n",
        "        pass ## ToDO: implement\n",
        "\n",
        "class Pow(Operator):\n",
        "\n",
        "    def f(self, a, b):\n",
        "        return a**b\n",
        "\n",
        "    def df(self, a, b):\n",
        "        if a <= 0: ## work-around: treat as unary operation if -a^b\n",
        "            return [b * (a ** (b - 1))]\n",
        "        else:\n",
        "            return [b * (a ** (b - 1)), (a ** b) * math.log(a)]\n",
        "\n",
        "class Sin(Operator):\n",
        "\n",
        "    def f(self, a, b=None):\n",
        "        pass ## ToDO: implement\n",
        "\n",
        "    def df(self, a, b=None):\n",
        "        pass ## ToDO: implement\n",
        "\n",
        "class Cos(Operator):\n",
        "\n",
        "    def f(self, a, b=None):\n",
        "        pass ## ToDO: implement\n",
        "\n",
        "    def df(self, a, b=None):\n",
        "        pass ## ToDO: implement"
      ],
      "metadata": {
        "id": "FqYDZ0rvZQVr"
      },
      "execution_count": null,
      "outputs": []
    },
    {
      "cell_type": "code",
      "source": [
        "#@title ToDo 3: Executing\n",
        "\n",
        "class Executor():\n",
        "\n",
        "    def __init__(self, graph: dict, in_vars: dict = {}):\n",
        "        \"\"\"\n",
        "        graph: computation graph in a data structure of your choosing\n",
        "        in_vars: dict of input variables, e.g. {\"x\": 2.0, \"y\": -1.0}\n",
        "        \"\"\"\n",
        "        self.graph = graph\n",
        "        self.in_vars = in_vars\n",
        "        self.fn_map = {\"log\": Log(), \"exp\": Exp(), \"+\": Add(), \"-\": Sub(), \"^\": Pow(), \"sin\": Sin(), \"cos\": Cos(), \"*\": Mult(), \"/\": Div()}\n",
        "        self.output = -1\n",
        "        self.derivative = {}\n",
        "\n",
        "    ## forward execution____________________________\n",
        "\n",
        "    def forward(self, ):\n",
        "        pass  ## ToDO: implement and set self.output\n",
        "        self.output = -1\n",
        "\n",
        "    ## backward execution____________________________\n",
        "\n",
        "    def backward(self, ):\n",
        "        pass  ## ToDO: implement and set self.derivative\n",
        "        self.derivative = {}\n",
        "\n",
        "\n",
        "if __name__ == '__main__':\n",
        "  e = Executor(g.graph, in_vars=in_vars)\n",
        "  e.forward()\n",
        "  e.backward()\n",
        "  print(e.output)\n",
        "  print(e.derivative)"
      ],
      "metadata": {
        "colab": {
          "base_uri": "https://localhost:8080/"
        },
        "id": "l965tc0PZD1y",
        "outputId": "a9f5af6b-f8ff-4ea0-b2f9-924da950ed66"
      },
      "execution_count": null,
      "outputs": [
        {
          "output_type": "stream",
          "name": "stdout",
          "text": [
            "-1\n",
            "{}\n"
          ]
        }
      ]
    },
    {
      "cell_type": "code",
      "source": [
        "#@title Test Function for Debugging [do not change]\n",
        "\n",
        "utils.test_backprop(Builder, Executor, math_problem)"
      ],
      "metadata": {
        "colab": {
          "base_uri": "https://localhost:8080/"
        },
        "cellView": "form",
        "id": "lw-g9g_Avox_",
        "outputId": "ae8638b7-3dda-447a-b444-d68f91f562a6"
      },
      "execution_count": null,
      "outputs": [
        {
          "output_type": "stream",
          "name": "stdout",
          "text": [
            "\n",
            "0: problem: exp(x) - (y * 2), in_vars: {'x': 2.0, 'y': -2.0}\n",
            "FAILURE output: -1 != 11.39\n",
            "FAILURE derivative: {} != {'x': 7.39, 'y': -2.0}\n"
          ]
        }
      ]
    },
    {
      "cell_type": "code",
      "source": [
        "#@title Test Function for Grading [do not change]\n",
        "\n",
        "utils.test_backprop(Builder, Executor)"
      ],
      "metadata": {
        "colab": {
          "base_uri": "https://localhost:8080/"
        },
        "id": "d4qAd9lBtSmX",
        "outputId": "ed345712-a193-4372-dd6c-8662615e278a"
      },
      "execution_count": null,
      "outputs": [
        {
          "output_type": "stream",
          "name": "stdout",
          "text": [
            "\n",
            "0: problem: x/y, in_vars: {'x': 1.0, 'y': 1.0}\n",
            "FAILURE output: -1 != 1.0\n",
            "FAILURE derivative: {} != {'x': 1.0, 'y': -1.0}\n",
            "\n",
            "1: problem: exp(x) - (y * 2), in_vars: {'x': 2.0, 'y': -2.0}\n",
            "FAILURE output: -1 != 11.39\n",
            "FAILURE derivative: {} != {'x': 7.39, 'y': -2.0}\n",
            "\n",
            "2: problem: (x^2 - 1) * (y+2), in_vars: {'x': 3.0, 'y': 2.0}\n",
            "FAILURE output: -1 != 32.0\n",
            "FAILURE derivative: {} != {'x': 24.0, 'y': 8.0}\n",
            "\n",
            "3: problem: z + sin(x^(2) + (y * exp(z))), in_vars: {'x': 2.0, 'y': -1.0, 'z': 0.0}\n",
            "FAILURE output: -1 != 0.14\n",
            "FAILURE derivative: {} != {'x': -3.96, 'y': -0.99, 'z': 1.99}\n"
          ]
        }
      ]
    },
    {
      "cell_type": "code",
      "source": [],
      "metadata": {
        "id": "uhPtpwnguoCL"
      },
      "execution_count": null,
      "outputs": []
    }
  ]
}