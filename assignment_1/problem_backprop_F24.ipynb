{
  "nbformat": 4,
  "nbformat_minor": 0,
  "metadata": {
    "colab": {
      "provenance": [],
      "include_colab_link": true
    },
    "kernelspec": {
      "name": "python3",
      "display_name": "Python 3"
    },
    "language_info": {
      "name": "python"
    }
  },
  "cells": [
    {
      "cell_type": "markdown",
      "metadata": {
        "id": "view-in-github",
        "colab_type": "text"
      },
      "source": [
        "<a href=\"https://colab.research.google.com/github/liuhaozhe6788/intro-nlp-f24/blob/master/assignment_1/problem_backprop_F24.ipynb\" target=\"_parent\"><img src=\"https://colab.research.google.com/assets/colab-badge.svg\" alt=\"Open In Colab\"/></a>"
      ]
    },
    {
      "cell_type": "markdown",
      "source": [
        "# Assignment 1 – Backprop"
      ],
      "metadata": {
        "id": "Kf49KbBpaJsu"
      }
    },
    {
      "cell_type": "code",
      "source": [
        "#@title Library Imports [do not change]\n",
        "\n",
        "import importlib\n",
        "!git clone https://www.github.com/rycolab/intro-nlp-f24.git\n",
        "utils = importlib.import_module(\"intro-nlp-f24.assignment_1.utils\")\n",
        "\n",
        "import re\n",
        "import random\n",
        "from collections import defaultdict\n",
        "import itertools\n",
        "from abc import ABC, abstractmethod\n",
        "import math"
      ],
      "metadata": {
        "id": "wAhpRJSCgCh4",
        "colab": {
          "base_uri": "https://localhost:8080/"
        },
        "outputId": "63913d77-351b-470b-becf-f8060789ab83",
        "cellView": "form"
      },
      "execution_count": 67,
      "outputs": [
        {
          "output_type": "stream",
          "name": "stdout",
          "text": [
            "fatal: destination path 'intro-nlp-f24' already exists and is not an empty directory.\n"
          ]
        }
      ]
    },
    {
      "cell_type": "code",
      "source": [
        "#@title Select and Parse Math Problems [do not change]\n",
        "\n",
        "#@markdown select math problem\n",
        "\n",
        "math_problem_i = \"3\" #@param [0,1,2,3]\n",
        "math_problem = utils.MATH_PROBLEMS[int(math_problem_i)]\n",
        "print(math_problem)\n",
        "\n",
        "parser = utils.Parser()\n",
        "infix, in_vars = parser.parse(math_problem[\"problem\"], in_vars = math_problem[\"in_vars\"])\n",
        "print(infix, in_vars)"
      ],
      "metadata": {
        "colab": {
          "base_uri": "https://localhost:8080/"
        },
        "id": "awwwql_ii0y0",
        "outputId": "6aa9d1b4-d0a3-44b3-82db-f773c1675cd7",
        "cellView": "form"
      },
      "execution_count": 68,
      "outputs": [
        {
          "output_type": "stream",
          "name": "stdout",
          "text": [
            "{'problem': 'z + sin(x^(2) + (y * exp(z)))', 'in_vars': {'x': 2.0, 'y': -1.0, 'z': 0.0}, 'output': 0.14, 'derivative': {'x': -3.96, 'y': -0.99, 'z': 1.99}}\n",
            "['z', '+', ['sin', [['x', '^', 2], '+', ['y', '*', ['exp', 'z']]]]] {'z': 0.0, 'x': 2.0, 'y': -1.0}\n"
          ]
        }
      ]
    },
    {
      "cell_type": "code",
      "source": [
        "#@title ToDo1: Building\n",
        "\n",
        "class Builder():\n",
        "\n",
        "    def __init__(self, infix: list, in_vars: dict = {}):\n",
        "        \"\"\"\n",
        "        infix: list of infix notation parse, e.g. [['exp', 2], '-', 3]\n",
        "        in_vars: dict of input variables to ensure they are not used as intermediate or output variables\n",
        "        RETURN: computation graph in a data structure of your choosing\n",
        "        \"\"\"\n",
        "\n",
        "        ## some alphabetical vars to use as intermediate and output variables minus the input vars to avoid duplicates\n",
        "        avail_vars = list(map(chr, range(97, 123))) + list(map(chr, range(945, 969)))\n",
        "        if len(in_vars.keys()) > 0:\n",
        "            avail_vars = set(avail_vars) - set(in_vars)\n",
        "        self.avail_vars = sorted(list(set(avail_vars)), reverse=True)\n",
        "\n",
        "        self.infix = infix\n",
        "        self.var_id = 0  # index for available variables used\n",
        "        self.graph = self.build_graph(infix)\n",
        "\n",
        "    def build_graph(self, infix: list):\n",
        "        if len(infix) == 0: return {}\n",
        "        if len(infix) == 1:\n",
        "            return {infix[0]: {\"forward\": {}, \"backward\": {}}}\n",
        "        if len(infix) == 2:\n",
        "          op, val = infix\n",
        "          g = self.build_graph(val if isinstance(val, list) else [val])\n",
        "          for k, v in g.items():\n",
        "            if len(v[\"forward\"]) == 0 and isinstance(k, str):\n",
        "              g[k][\"forward\"][self.avail_vars[self.var_id]] = [op]\n",
        "              g[self.avail_vars[self.var_id]] = {\"forward\": {}, \"backward\": {k: [op]}}\n",
        "              break\n",
        "          self.var_id +=1\n",
        "          return g\n",
        "        if len(infix) == 3:\n",
        "          lval, op, rval = infix\n",
        "          gl = self.build_graph(lval if isinstance(lval, list) else [lval])\n",
        "          gr = self.build_graph(rval if isinstance(rval, list) else [rval])\n",
        "          for k, v in gl.items():\n",
        "            if len(v[\"forward\"]) == 0:\n",
        "              gl[k][\"forward\"][self.avail_vars[self.var_id]] = [op, 'l']\n",
        "              gl[self.avail_vars[self.var_id]] = {\"forward\": {}, \"backward\": {k: [op, 'l']}}\n",
        "              break\n",
        "          for k, v in gr.items():\n",
        "            if len(v[\"forward\"]) == 0:\n",
        "              gr[k][\"forward\"][self.avail_vars[self.var_id]] = [op, 'r']\n",
        "              gr[self.avail_vars[self.var_id]] = {\"forward\": {}, \"backward\": {k: [op, 'r']}}\n",
        "              break\n",
        "          self.var_id +=1\n",
        "          g = {}\n",
        "          for k in gl.keys():\n",
        "            if k in gr.keys():\n",
        "              g[k] = {\"forward\": {}, \"backward\": {}}\n",
        "              g[k][\"forward\"].update(gl[k][\"forward\"])\n",
        "              g[k][\"forward\"].update(gr[k][\"forward\"])\n",
        "              g[k][\"backward\"].update(gl[k][\"backward\"])\n",
        "              g[k][\"backward\"].update(gr[k][\"backward\"])\n",
        "            else: g[k] = gl[k]\n",
        "          for k in gr.keys():\n",
        "            if k not in gl.keys():\n",
        "              g[k] = gr[k]\n",
        "          return g\n",
        "\n",
        "if __name__ == '__main__':\n",
        "\n",
        "    g = Builder(infix, in_vars)\n",
        "    import pprint\n",
        "    pp = pprint.PrettyPrinter(indent=4)\n",
        "    pp.pprint(g.graph)"
      ],
      "metadata": {
        "colab": {
          "base_uri": "https://localhost:8080/"
        },
        "id": "gEY0OEr4X2sO",
        "outputId": "148f7a49-fc02-401d-e5ef-2ae8f5cd278b"
      },
      "execution_count": 69,
      "outputs": [
        {
          "output_type": "stream",
          "name": "stdout",
          "text": [
            "{   2: {'backward': {}, 'forward': {'ψ': ['^', 'r']}},\n",
            "    'x': {'backward': {}, 'forward': {'ψ': ['^', 'l']}},\n",
            "    'y': {'backward': {}, 'forward': {'φ': ['*', 'l']}},\n",
            "    'z': {'backward': {}, 'forward': {'σ': ['+', 'l'], 'χ': ['exp']}},\n",
            "    'σ': {'backward': {'z': ['+', 'l'], 'τ': ['+', 'r']}, 'forward': {}},\n",
            "    'τ': {'backward': {'υ': ['sin']}, 'forward': {'σ': ['+', 'r']}},\n",
            "    'υ': {   'backward': {'φ': ['+', 'r'], 'ψ': ['+', 'l']},\n",
            "             'forward': {'τ': ['sin']}},\n",
            "    'φ': {   'backward': {'y': ['*', 'l'], 'χ': ['*', 'r']},\n",
            "             'forward': {'υ': ['+', 'r']}},\n",
            "    'χ': {'backward': {'z': ['exp']}, 'forward': {'φ': ['*', 'r']}},\n",
            "    'ψ': {   'backward': {2: ['^', 'r'], 'x': ['^', 'l']},\n",
            "             'forward': {'υ': ['+', 'l']}}}\n"
          ]
        }
      ]
    },
    {
      "cell_type": "code",
      "source": [
        "#@title ToDo2: Operations\n",
        "\n",
        "class Operator(ABC):\n",
        "\n",
        "    @abstractmethod\n",
        "    def f(self, a, b = None) -> float:\n",
        "        raise NotImplementedError()\n",
        "        return f_res\n",
        "\n",
        "    @abstractmethod\n",
        "    def df(self, a, b = None) -> list:\n",
        "        raise NotImplementedError()\n",
        "        return [df_res]\n",
        "\n",
        "class Exp(Operator):\n",
        "\n",
        "    def f(self, a, b = None):\n",
        "        return math.exp(a)\n",
        "\n",
        "    def df(self, a, b = None):\n",
        "        return [math.exp(a)]\n",
        "\n",
        "class Log(Operator):\n",
        "    ## natural logarithm\n",
        "\n",
        "    def f(self, a, b = None):\n",
        "        return math.log(a)\n",
        "\n",
        "    def df(self, a, b = None):\n",
        "        return [1/a]\n",
        "\n",
        "class Mult(Operator):\n",
        "\n",
        "    def f(self, a, b):\n",
        "        return a * b\n",
        "\n",
        "    def df(self, a, b):\n",
        "        return [b, a]\n",
        "\n",
        "class Div(Operator):\n",
        "\n",
        "    def f(self, a, b):\n",
        "        return a / b\n",
        "\n",
        "    def df(self, a, b):\n",
        "        return [1/b, -a/pow(b, 2)]\n",
        "\n",
        "class Add(Operator):\n",
        "\n",
        "    def f(self, a, b):\n",
        "        return a + b\n",
        "\n",
        "    def df(self, a, b = None):\n",
        "        return [1, 1]\n",
        "\n",
        "class Sub(Operator):\n",
        "\n",
        "    def f(self, a, b = None):\n",
        "        return a-b\n",
        "\n",
        "    def df(self, a, b = None):\n",
        "        return [1, -1]\n",
        "\n",
        "class Pow(Operator):\n",
        "\n",
        "    def f(self, a, b):\n",
        "        return a**b\n",
        "\n",
        "    def df(self, a, b):\n",
        "        if a <= 0: ## work-around: treat as unary operation if -a^b\n",
        "            return [b * (a ** (b - 1))]\n",
        "        else:\n",
        "            return [b * (a ** (b - 1)), (a ** b) * math.log(a)]\n",
        "\n",
        "class Sin(Operator):\n",
        "\n",
        "    def f(self, a, b=None):\n",
        "        return math.sin(a)\n",
        "\n",
        "    def df(self, a, b=None):\n",
        "        return math.cos(a)\n",
        "\n",
        "class Cos(Operator):\n",
        "\n",
        "    def f(self, a, b=None):\n",
        "        return math.cos(a)\n",
        "\n",
        "    def df(self, a, b=None):\n",
        "        return -math.sin(a)"
      ],
      "metadata": {
        "id": "FqYDZ0rvZQVr",
        "cellView": "form"
      },
      "execution_count": 70,
      "outputs": []
    },
    {
      "cell_type": "code",
      "source": [
        "#@title ToDo 3: Executing\n",
        "\n",
        "class Executor():\n",
        "\n",
        "    def __init__(self, graph: dict, in_vars: dict = {}):\n",
        "        \"\"\"\n",
        "        graph: computation graph in a data structure of your choosing\n",
        "        in_vars: dict of input variables, e.g. {\"x\": 2.0, \"y\": -1.0}\n",
        "        \"\"\"\n",
        "        self.graph = graph\n",
        "        self.in_vars = in_vars\n",
        "        self.forward_internal_vals = in_vars.copy()\n",
        "        for k, v in self.graph.items():\n",
        "          if v[\"forward\"] == {}:\n",
        "            self.out_var = k\n",
        "        self.fn_map = {\"log\": Log(), \"exp\": Exp(), \"+\": Add(), \"-\": Sub(), \"^\": Pow(), \"sin\": Sin(), \"cos\": Cos(), \"*\": Mult(), \"/\": Div()}\n",
        "        self.output = -1\n",
        "        self.derivative = {}\n",
        "\n",
        "    ## forward execution____________________________\n",
        "\n",
        "    def forward(self, ):\n",
        "        vars = list(self.in_vars.keys())\n",
        "        while not (len(vars) == 1 and vars[0] == self.out_var):\n",
        "          # print(vars)\n",
        "          k = vars[0]\n",
        "          for v, op in self.graph[k][\"forward\"].items():\n",
        "            if v not in self.forward_internal_vals.keys():\n",
        "              if len(op) == 1:\n",
        "                a = self.forward_internal_vals[k]\n",
        "                self.forward_internal_vals[v] = self.fn_map[op[0]].f(a)\n",
        "                if k in vars:\n",
        "                  vars.remove(k)\n",
        "                vars.append(v)\n",
        "              elif len(op) == 2:\n",
        "                if op[1] == 'l':\n",
        "                  a = self.forward_internal_vals[k]\n",
        "                  for bv, op in self.graph[v][\"backward\"].items():\n",
        "                    if bv != k:\n",
        "                      if isinstance(bv, str):\n",
        "                        if bv in self.forward_internal_vals.keys():\n",
        "                          b = self.forward_internal_vals[bv]\n",
        "                          self.forward_internal_vals[v] = self.fn_map[op[0]].f(a, b)\n",
        "                          if bv in vars:\n",
        "                            vars.remove(bv)\n",
        "                          if k in vars:\n",
        "                            vars.remove(k)\n",
        "                          vars.append(v)\n",
        "                      else:\n",
        "                        b = bv\n",
        "                        self.forward_internal_vals[v] = self.fn_map[op[0]].f(a, b)\n",
        "                        if k in vars:\n",
        "                          vars.remove(k)\n",
        "                        vars.append(v)\n",
        "                      break\n",
        "                elif op[1] == 'r':\n",
        "                  b = self.forward_internal_vals[k]\n",
        "                  for bv, op in self.graph[v][\"backward\"].items():\n",
        "                    if bv != k:\n",
        "                      if isinstance(bv, str):\n",
        "                        if bv in self.forward_internal_vals.keys():\n",
        "                          a = self.forward_internal_vals[bv]\n",
        "                          self.forward_internal_vals[v] = self.fn_map[op[0]].f(a, b)\n",
        "                          if bv in vars:\n",
        "                            vars.remove(bv)\n",
        "                          if k in vars:\n",
        "                            vars.remove(k)\n",
        "                          vars.append(v)\n",
        "                      else:\n",
        "                        a = bv\n",
        "                        self.forward_internal_vals[v] = self.fn_map[op[0]].f(a, b)\n",
        "                        if k in vars:\n",
        "                          vars.remove(k)\n",
        "                        vars.append(v)\n",
        "                      break\n",
        "        self.output = round(self.forward_internal_vals[self.out_var], 2)\n",
        "\n",
        "    ## backward execution____________________________\n",
        "\n",
        "    def backward(self, ):\n",
        "        pass  ## ToDO: implement and set self.derivative\n",
        "        self.derivative = {}\n",
        "\n",
        "\n",
        "if __name__ == '__main__':\n",
        "  e = Executor(g.graph, in_vars=in_vars)\n",
        "  e.forward()\n",
        "  e.backward()\n",
        "  print(e.output)\n",
        "  print(e.derivative)"
      ],
      "metadata": {
        "colab": {
          "base_uri": "https://localhost:8080/"
        },
        "id": "l965tc0PZD1y",
        "outputId": "af6ed40e-751f-460f-f284-bc1edf297437"
      },
      "execution_count": 75,
      "outputs": [
        {
          "output_type": "stream",
          "name": "stdout",
          "text": [
            "0.14\n",
            "{}\n"
          ]
        }
      ]
    },
    {
      "cell_type": "code",
      "source": [
        "#@title Test Function for Debugging [do not change]\n",
        "\n",
        "utils.test_backprop(Builder, Executor, math_problem)"
      ],
      "metadata": {
        "colab": {
          "base_uri": "https://localhost:8080/"
        },
        "cellView": "form",
        "id": "lw-g9g_Avox_",
        "outputId": "008a3fd6-11d0-4e0e-bc7b-7eb0e4c30a94"
      },
      "execution_count": 46,
      "outputs": [
        {
          "output_type": "stream",
          "name": "stdout",
          "text": [
            "\n",
            "0: problem: exp(x) - (y * 2), in_vars: {'x': 2.0, 'y': -2.0}\n",
            "SUCCESS output: 11.39\n",
            "FAILURE derivative: {} != {'x': 7.39, 'y': -2.0}\n"
          ]
        }
      ]
    },
    {
      "cell_type": "code",
      "source": [
        "#@title Test Function for Grading [do not change]\n",
        "\n",
        "utils.test_backprop(Builder, Executor)"
      ],
      "metadata": {
        "colab": {
          "base_uri": "https://localhost:8080/"
        },
        "id": "d4qAd9lBtSmX",
        "outputId": "0bfd9d55-2abf-46d7-b772-3130485a5280"
      },
      "execution_count": 74,
      "outputs": [
        {
          "output_type": "stream",
          "name": "stdout",
          "text": [
            "['x', 'y']\n",
            "\n",
            "0: problem: x/y, in_vars: {'x': 1.0, 'y': 1.0}\n",
            "SUCCESS output: 1.0\n",
            "FAILURE derivative: {} != {'x': 1.0, 'y': -1.0}\n",
            "['x', 'y']\n",
            "['y', 'ψ']\n",
            "['ψ', 'χ']\n",
            "\n",
            "1: problem: exp(x) - (y * 2), in_vars: {'x': 2.0, 'y': -2.0}\n",
            "SUCCESS output: 11.39\n",
            "FAILURE derivative: {} != {'x': 7.39, 'y': -2.0}\n",
            "['x', 'y']\n",
            "['y', 'ψ']\n",
            "['ψ', 'φ']\n",
            "['φ', 'χ']\n",
            "\n",
            "2: problem: (x^2 - 1) * (y+2), in_vars: {'x': 3.0, 'y': 2.0}\n",
            "SUCCESS output: 32.0\n",
            "FAILURE derivative: {} != {'x': 24.0, 'y': 8.0}\n",
            "['z', 'x', 'y']\n",
            "['x', 'y', 'χ']\n",
            "['y', 'χ', 'ψ']\n",
            "['ψ', 'φ']\n",
            "['υ']\n",
            "['τ']\n",
            "\n",
            "3: problem: z + sin(x^(2) + (y * exp(z))), in_vars: {'x': 2.0, 'y': -1.0, 'z': 0.0}\n",
            "SUCCESS output: 0.14\n",
            "FAILURE derivative: {} != {'x': -3.96, 'y': -0.99, 'z': 1.99}\n"
          ]
        }
      ]
    },
    {
      "cell_type": "code",
      "source": [],
      "metadata": {
        "id": "uhPtpwnguoCL"
      },
      "execution_count": null,
      "outputs": []
    }
  ]
}